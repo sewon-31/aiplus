{
  "nbformat": 4,
  "nbformat_minor": 0,
  "metadata": {
    "colab": {
      "provenance": [],
      "gpuType": "T4",
      "include_colab_link": true
    },
    "kernelspec": {
      "name": "python3",
      "display_name": "Python 3"
    },
    "language_info": {
      "name": "python"
    },
    "accelerator": "GPU"
  },
  "cells": [
    {
      "cell_type": "markdown",
      "metadata": {
        "id": "view-in-github",
        "colab_type": "text"
      },
      "source": [
        "<a href=\"https://colab.research.google.com/github/sewon-31/aiplus/blob/master/1_3_MNIST.ipynb\" target=\"_parent\"><img src=\"https://colab.research.google.com/assets/colab-badge.svg\" alt=\"Open In Colab\"/></a>"
      ]
    },
    {
      "cell_type": "markdown",
      "source": [
        "# MNIST 실습\n",
        "\n",
        "이번에는 28x28 흑백 손글씨 이미지를 보고 0~9 사이의 숫자 중 어떤 숫자를 쓴 것인지 예측하는 문제를 실습합니다.\n",
        "이번 실습에서는 GPU를 활용할 것이기 때문에, 이전 챕터에서 Colab에서 GPU를 설정하는 방법을 따라해주시길 바랍니다.\n",
        "\n",
        "GPU를 설정했으면 library들을 import합니다."
      ],
      "metadata": {
        "id": "OPJenlrhihrh"
      }
    },
    {
      "cell_type": "code",
      "execution_count": null,
      "metadata": {
        "id": "6lXVfXoDtoQh"
      },
      "outputs": [],
      "source": [
        "import torch\n",
        "import torchvision\n",
        "import torchvision.transforms as transforms"
      ]
    },
    {
      "cell_type": "markdown",
      "source": [
        "다음은 dataset을 준비합니다. 손글씨 dataset은 MNIST라는 유명한 dataset이 있습니다. 이 dataset은 `torchvision`에서 제공하고 있으며, 다음과 같이 다운로드 받을 수 있습니다."
      ],
      "metadata": {
        "id": "pF-1zQvmiult"
      }
    },
    {
      "cell_type": "code",
      "source": [
        "transform = transforms.ToTensor()\n",
        "\n",
        "trainset = torchvision.datasets.MNIST(\n",
        "    root='./data',\n",
        "    train=True,\n",
        "    download=True,\n",
        "    transform=transform\n",
        ")\n",
        "testset = torchvision.datasets.MNIST(\n",
        "    root='./data',\n",
        "    train=False,\n",
        "    download=True,\n",
        "    transform=transform\n",
        ")"
      ],
      "metadata": {
        "id": "KAYlqPaRt6ti"
      },
      "execution_count": null,
      "outputs": []
    },
    {
      "cell_type": "markdown",
      "source": [
        "MNIST는 손글씨 사진과 어떤 숫자를 의미하는지에 대한 label의 pair들로 구성되어있습니다.\n",
        "이 때, 우리는 PyTorch model을 사용할 것이기 때문에 손글씨 사진들을 모두 tensor로 변환해야합니다.\n",
        "이러한 부가적인 변환들은 `torchvision.transforms`에서 제공하고 있으며, `torchvision.datasets.MNIST`에서 `transform` 인자로 받을 수 있습니다.\n",
        "우리는 단순히 사진을 tensor로 바꾸고 싶기 때문에 `transforms.ToTensor()` transformation을 넘겨줍니다.\n",
        "\n",
        "다음은 전체 data의 개수와 첫 번째 data를 출력한 결과입니다."
      ],
      "metadata": {
        "id": "p-GqH7_ZjVMs"
      }
    },
    {
      "cell_type": "code",
      "source": [
        "from matplotlib import pyplot as plt\n",
        "\n",
        "\n",
        "print(len(trainset))\n",
        "print(trainset[0][0].shape, trainset[0][1])\n",
        "plt.imshow(trainset[0][0][0], cmap='gray')"
      ],
      "metadata": {
        "colab": {
          "base_uri": "https://localhost:8080/",
          "height": 484
        },
        "id": "Zsp3sHmojyhT",
        "outputId": "4ea5d06c-88a2-4f1f-e07a-91cc6cc30a67"
      },
      "execution_count": null,
      "outputs": [
        {
          "output_type": "stream",
          "name": "stdout",
          "text": [
            "60000\n",
            "torch.Size([1, 28, 28]) 5\n"
          ]
        },
        {
          "output_type": "execute_result",
          "data": {
            "text/plain": [
              "<matplotlib.image.AxesImage at 0x7c25c021bb90>"
            ]
          },
          "metadata": {},
          "execution_count": 38
        },
        {
          "output_type": "display_data",
          "data": {
            "text/plain": [
              "<Figure size 640x480 with 1 Axes>"
            ],
            "image/png": "[encoded data removed]"
          },
          "metadata": {}
        }
      ]
    },
    {
      "cell_type": "markdown",
      "source": [
        "첫 번째 출력결과를 통해 우리는 6만장의 손글씨 data가 있는 것을 알 수 있습니다.\n",
        "그리고 두 번째 출력결과를 통해 첫 번째 data의 shape은 (1, 28, 28)이고 5라는 숫자를 쓴 사진이라는 것을 알 수 있습니다.\n",
        "마지막으로 `plt.imshow`를 통해 visualize 했을 때 5라는 숫자가 나오는 것을 알 수 있습니다.\n",
        "\n",
        "다음은 SGD를 위해 dataset을 여러 개의 batch로 나누는 과정을 PyTorch로 구현한 모습입니다."
      ],
      "metadata": {
        "id": "udm8wDBsi301"
      }
    },
    {
      "cell_type": "code",
      "source": [
        "batch_size = 64\n",
        "\n",
        "trainloader = torch.utils.data.DataLoader(\n",
        "    trainset,\n",
        "    batch_size=batch_size,\n",
        "    shuffle=True\n",
        ")\n",
        "testloader = torch.utils.data.DataLoader(\n",
        "    testset,\n",
        "    batch_size=batch_size,\n",
        "    shuffle=False\n",
        ")"
      ],
      "metadata": {
        "id": "UxKu3kA2i5WH"
      },
      "execution_count": null,
      "outputs": []
    },
    {
      "cell_type": "markdown",
      "source": [
        "PyTorch에서는 `DataLoader`가 dataset을 인자로 받아 batch로 나눠줍니다.\n",
        "부가적으로 `batch_size`라는 인자를 통해 batch size를 받고 있으며, `shuffle`이라는 인자를 통해 data들을 섞을지 결정해줍니다.\n",
        "우리는 SGD가 완전 랜덤으로 batch를 구성해야 잘 동작하는 것을 알고 있기 때문에 `shuffle`에 `True`를 넘겨주고 있습니다.\n",
        "\n",
        "다음은 첫 번째 batch를 출력한 모습입니다."
      ],
      "metadata": {
        "id": "z4Qyrm4WlzWt"
      }
    },
    {
      "cell_type": "code",
      "source": [
        "dataiter = iter(trainloader)\n",
        "images, labels = next(dataiter)\n",
        "print(images.shape, labels.shape)"
      ],
      "metadata": {
        "colab": {
          "base_uri": "https://localhost:8080/"
        },
        "id": "_Hd7XxyAvVNz",
        "outputId": "eaec1104-58a9-468d-9d0b-2e307a72205c"
      },
      "execution_count": null,
      "outputs": [
        {
          "output_type": "stream",
          "name": "stdout",
          "text": [
            "torch.Size([64, 1, 28, 28]) torch.Size([64])\n"
          ]
        }
      ]
    },
    {
      "cell_type": "markdown",
      "source": [
        "`images`는 첫 번째 batch의 image들이고 `labels`는 첫 번째 batch의 label들입니다.\n",
        "위에서 batch size를 64로 설정했기 때문에 총 64개의 image와 label들이 있어야 합니다.\n",
        "실제 shape 출력 결과를 보면 그렇다는 것을 알 수 있습니다.\n",
        "\n",
        "다음은 (n, 1, 28, 28) shape의 image를 입력받아 0~9 사이의 정수 하나를 출력하는 3-layer MLP를 구현합니다."
      ],
      "metadata": {
        "id": "h0ZY5mDimRUK"
      }
    },
    {
      "cell_type": "code",
      "source": [
        "from torch import nn\n",
        "\n",
        "\n",
        "class Model(nn.Module):\n",
        "  def __init__(self, input_dim, n_dim):\n",
        "    super().__init__()\n",
        "\n",
        "    self.layer1 = nn.Linear(input_dim, n_dim)\n",
        "    self.layer2 = nn.Linear(n_dim, n_dim)\n",
        "    self.layer3 = nn.Linear(n_dim, 10)\n",
        "\n",
        "    self.act = nn.ReLU()\n",
        "\n",
        "  def forward(self, x):\n",
        "    x = torch.flatten(x, start_dim=1)\n",
        "    x = self.act(self.layer1(x))\n",
        "    x = self.act(self.layer2(x))\n",
        "    x = self.act(self.layer3(x))\n",
        "\n",
        "    return x\n",
        "\n",
        "\n",
        "model = Model(28 * 28 * 1, 1024)"
      ],
      "metadata": {
        "id": "OLOA-ZGTuVVG"
      },
      "execution_count": null,
      "outputs": []
    },
    {
      "cell_type": "markdown",
      "source": [
        "이전의 2-layer MLP와 유사한 형태임을 알 수 있습니다.\n",
        "여기서 특이사항은 `forward`의 첫 번째 줄에 `torch.flatten`을 사용한다는 것입니다.\n",
        "`Linear`는 이전에도 봤다시피 (n, d) 형태의 shape을 입력받습니다.\n",
        "이미지는 (n, 1, 28, 28)이기 때문에 (n, 1 * 28 * 28)로 shape을 변환해야 선형 함수에 입력으로 주어줄 수 있게 됩니다.\n",
        "이 역할을 수행하는 것이 바로 `torch.flatten`입니다.\n",
        "우리는 첫 번째 shape인 n을 보존할 것이기 때문에 flatten할 차원은 `start_dim=1`로 넘겨주게 됩니다.\n",
        "\n",
        "다음은 gradient descent를 수행해줄 optimizer를 구현하는 모습입니다."
      ],
      "metadata": {
        "id": "tag1rNcwmnAr"
      }
    },
    {
      "cell_type": "code",
      "source": [
        "from torch.optim import SGD\n",
        "\n",
        "lr = 0.001\n",
        "model = model.to('cuda')\n",
        "\n",
        "optimizer = SGD(model.parameters(), lr=lr)"
      ],
      "metadata": {
        "id": "ypS0TcOlvBhZ"
      },
      "execution_count": null,
      "outputs": []
    },
    {
      "cell_type": "markdown",
      "source": [
        "이전 코드와 거의 똑같습니다. 다른 점은 `model.to('cuda')` 코드를 통해 우리가 구현한 model을 GPU로 옮긴 것입니다.\n",
        "MNIST 부터는 모델과 data가 커지면서 훨씬 많은 행렬 연산이 이루어지기 때문에 GPU를 활용하는 것이 빠릅니다.\n",
        "\n",
        "다음은 model을 MNIST에 학습하는 코드입니다."
      ],
      "metadata": {
        "id": "5PooeOKMnRfZ"
      }
    },
    {
      "cell_type": "code",
      "source": [
        "def accuracy(model, dataloader):\n",
        "  cnt = 0\n",
        "  acc = 0\n",
        "\n",
        "  for data in dataloader:\n",
        "    inputs, labels = data\n",
        "    inputs, labels = inputs.to('cuda'), labels.to('cuda')\n",
        "\n",
        "    preds = model(inputs)\n",
        "    preds = torch.argmax(preds, dim=-1)\n",
        "\n",
        "    cnt += labels.shape[0]\n",
        "    acc += (labels == preds).sum().item()\n",
        "\n",
        "  return acc / cnt"
      ],
      "metadata": {
        "id": "v4MY-UcRV7SQ"
      },
      "execution_count": null,
      "outputs": []
    },
    {
      "cell_type": "code",
      "source": [
        "n_epochs = 100\n",
        "loss_fn = nn.CrossEntropyLoss()\n",
        "\n",
        "train_res = []\n",
        "test_res = []\n",
        "\n",
        "for epoch in range(n_epochs):\n",
        "  total_loss = 0.\n",
        "  for data in trainloader:\n",
        "    model.zero_grad()\n",
        "    inputs, labels = data\n",
        "    inputs, labels = inputs.to('cuda'), labels.to('cuda')\n",
        "\n",
        "    preds = model(inputs)\n",
        "    # loss = (preds[:, 0] - labels).pow(2).mean()\n",
        "    loss = loss_fn(preds, labels)\n",
        "    loss.backward()\n",
        "    optimizer.step()\n",
        "\n",
        "    total_loss += loss.item()\n",
        "\n",
        "  train_res.append(accuracy(model, trainloader))\n",
        "  test_res.append(accuracy(model, testloader))\n",
        "\n",
        "  print(f\"Epoch {epoch:3d} | Loss: {total_loss}\")"
      ],
      "metadata": {
        "colab": {
          "base_uri": "https://localhost:8080/"
        },
        "id": "TryX1hewvNiB",
        "outputId": "8fd69524-6c41-4787-8bb4-ce1e0b71d0ec"
      },
      "execution_count": null,
      "outputs": [
        {
          "output_type": "stream",
          "name": "stdout",
          "text": [
            "Epoch   0 | Loss: 2136.3663494586945\n",
            "Epoch   1 | Loss: 2074.031737089157\n",
            "Epoch   2 | Loss: 1980.8776813745499\n",
            "Epoch   3 | Loss: 1831.2606941461563\n",
            "Epoch   4 | Loss: 1612.9922311306\n",
            "Epoch   5 | Loss: 1364.6011477708817\n",
            "Epoch   6 | Loss: 1157.9988849759102\n",
            "Epoch   7 | Loss: 1015.7413486242294\n",
            "Epoch   8 | Loss: 913.6290594339371\n",
            "Epoch   9 | Loss: 743.4030143618584\n",
            "Epoch  10 | Loss: 640.2335521578789\n",
            "Epoch  11 | Loss: 573.3950430750847\n",
            "Epoch  12 | Loss: 525.9119653701782\n",
            "Epoch  13 | Loss: 489.95277935266495\n",
            "Epoch  14 | Loss: 461.84036165475845\n",
            "Epoch  15 | Loss: 438.9875114262104\n",
            "Epoch  16 | Loss: 419.9831321835518\n",
            "Epoch  17 | Loss: 404.18661184608936\n",
            "Epoch  18 | Loss: 390.9397805631161\n",
            "Epoch  19 | Loss: 379.22408090531826\n",
            "Epoch  20 | Loss: 369.09435157477856\n",
            "Epoch  21 | Loss: 360.25960414111614\n",
            "Epoch  22 | Loss: 352.42454397678375\n",
            "Epoch  23 | Loss: 345.4523072987795\n",
            "Epoch  24 | Loss: 338.9670698046684\n",
            "Epoch  25 | Loss: 333.2269399315119\n",
            "Epoch  26 | Loss: 327.89390844106674\n",
            "Epoch  27 | Loss: 322.9728978276253\n",
            "Epoch  28 | Loss: 318.40760354697704\n",
            "Epoch  29 | Loss: 314.2645529359579\n",
            "Epoch  30 | Loss: 310.2413023337722\n",
            "Epoch  31 | Loss: 306.37047816067934\n",
            "Epoch  32 | Loss: 302.78417084366083\n",
            "Epoch  33 | Loss: 299.3045064881444\n",
            "Epoch  34 | Loss: 295.9534020498395\n",
            "Epoch  35 | Loss: 292.9589679837227\n",
            "Epoch  36 | Loss: 289.97776255756617\n",
            "Epoch  37 | Loss: 287.2365143969655\n",
            "Epoch  38 | Loss: 284.4999756589532\n",
            "Epoch  39 | Loss: 281.6324254721403\n",
            "Epoch  40 | Loss: 279.12028923630714\n",
            "Epoch  41 | Loss: 276.49591164290905\n",
            "Epoch  42 | Loss: 274.1104280948639\n",
            "Epoch  43 | Loss: 271.8248494118452\n",
            "Epoch  44 | Loss: 269.56987596303225\n",
            "Epoch  45 | Loss: 267.13656260073185\n",
            "Epoch  46 | Loss: 264.9930201396346\n",
            "Epoch  47 | Loss: 262.8624164313078\n",
            "Epoch  48 | Loss: 260.6286275610328\n",
            "Epoch  49 | Loss: 258.61678735911846\n",
            "Epoch  50 | Loss: 256.59144653379917\n",
            "Epoch  51 | Loss: 254.7530881986022\n",
            "Epoch  52 | Loss: 252.58414579182863\n",
            "Epoch  53 | Loss: 250.6501373499632\n",
            "Epoch  54 | Loss: 248.81427006423473\n",
            "Epoch  55 | Loss: 246.93165978044271\n",
            "Epoch  56 | Loss: 245.0216627791524\n",
            "Epoch  57 | Loss: 243.15195026993752\n",
            "Epoch  58 | Loss: 241.38531785458326\n",
            "Epoch  59 | Loss: 239.74365881830454\n",
            "Epoch  60 | Loss: 237.92322869598866\n",
            "Epoch  61 | Loss: 236.19791146367788\n",
            "Epoch  62 | Loss: 234.4558855816722\n",
            "Epoch  63 | Loss: 232.81670099124312\n",
            "Epoch  64 | Loss: 231.15846556425095\n",
            "Epoch  65 | Loss: 229.5394385010004\n",
            "Epoch  66 | Loss: 227.86621125042439\n",
            "Epoch  67 | Loss: 226.32552640885115\n",
            "Epoch  68 | Loss: 224.66282664239407\n",
            "Epoch  69 | Loss: 223.042704641819\n",
            "Epoch  70 | Loss: 221.5565839111805\n",
            "Epoch  71 | Loss: 219.93388267606497\n",
            "Epoch  72 | Loss: 218.53736517578363\n",
            "Epoch  73 | Loss: 217.01130986213684\n",
            "Epoch  74 | Loss: 215.5509570017457\n",
            "Epoch  75 | Loss: 213.9531642012298\n",
            "Epoch  76 | Loss: 212.62530002743006\n",
            "Epoch  77 | Loss: 211.19510255381465\n",
            "Epoch  78 | Loss: 209.69838128983974\n",
            "Epoch  79 | Loss: 208.3154054544866\n",
            "Epoch  80 | Loss: 207.03681656718254\n",
            "Epoch  81 | Loss: 205.43716391175985\n",
            "Epoch  82 | Loss: 204.1818030513823\n",
            "Epoch  83 | Loss: 202.69099604710937\n",
            "Epoch  84 | Loss: 201.36157847195864\n",
            "Epoch  85 | Loss: 200.07728834822774\n",
            "Epoch  86 | Loss: 198.86862104013562\n",
            "Epoch  87 | Loss: 197.53135082870722\n",
            "Epoch  88 | Loss: 196.21452939510345\n",
            "Epoch  89 | Loss: 195.0606474764645\n",
            "Epoch  90 | Loss: 193.63135865330696\n",
            "Epoch  91 | Loss: 192.40397483482957\n",
            "Epoch  92 | Loss: 191.19441400840878\n",
            "Epoch  93 | Loss: 190.07581823319197\n",
            "Epoch  94 | Loss: 188.75395614653826\n",
            "Epoch  95 | Loss: 187.4239481166005\n",
            "Epoch  96 | Loss: 186.4050024971366\n",
            "Epoch  97 | Loss: 185.27197615988553\n",
            "Epoch  98 | Loss: 184.13415430113673\n",
            "Epoch  99 | Loss: 182.76597897335887\n"
          ]
        }
      ]
    },
    {
      "cell_type": "markdown",
      "source": [
        "출력 결과를 보면 잘 수렴하는 것을 볼 수 있습니다.\n",
        "이전 구현과 다른 점은 다음 두 가지입니다.\n",
        "- `for data in trainloader`를 통해 batch들을 iterate하면서 model을 학습합니다.\n",
        "- `inputs, labels = inputs.to('cuda'), labels.to('cuda')`를 통해 model의 입력으로 들어가는 tensor들을 GPU로 보냅니다.\n",
        "\n",
        "마지막으로 첫 번째 data에 대한 예측 결과를 살펴봅시다."
      ],
      "metadata": {
        "id": "YRDcptrqniX7"
      }
    },
    {
      "cell_type": "code",
      "source": [
        "idx = 0\n",
        "\n",
        "x = trainset[idx][0][None]  # (1, 1, 28, 28)\n",
        "x = x.to('cuda')\n",
        "\n",
        "print(model(x))\n",
        "print(trainset[idx][1])"
      ],
      "metadata": {
        "id": "Zct0ssSKwjt1",
        "colab": {
          "base_uri": "https://localhost:8080/"
        },
        "outputId": "4a8d7062-1a43-4522-895e-cfebb9c02cdb"
      },
      "execution_count": null,
      "outputs": [
        {
          "output_type": "stream",
          "name": "stdout",
          "text": [
            "tensor([[4.6796]], device='cuda:0', grad_fn=<ReluBackward0>)\n",
            "5\n"
          ]
        }
      ]
    },
    {
      "cell_type": "markdown",
      "source": [
        "여기서 idx를 조정하여 다른 data에 대한 출력 결과도 볼 수 있습니다.\n",
        "예측 결과를 보시면 아직 성능이 그렇게 좋지 않은 것을 알 수 있습니다."
      ],
      "metadata": {
        "id": "qzgSOrMsoZ2z"
      }
    },
    {
      "cell_type": "code",
      "source": [
        "import numpy as np\n",
        "\n",
        "def plot_acc(train_accs, test_accs, label1='train', label2='test'):\n",
        "  x = np.arange(len(train_accs))\n",
        "\n",
        "  plt.plot(x, train_accs, label=label1)\n",
        "  plt.plot(x, test_accs, label=label2)\n",
        "  plt.legend()\n",
        "  plt.show()\n",
        "\n",
        "plot_acc(train_res, test_res)"
      ],
      "metadata": {
        "id": "d6M4SpWQoML9",
        "outputId": "cb6297ac-d8f9-4c56-9e4f-75b951195f1e",
        "colab": {
          "base_uri": "https://localhost:8080/",
          "height": 430
        }
      },
      "execution_count": null,
      "outputs": [
        {
          "output_type": "display_data",
          "data": {
            "text/plain": [
              "<Figure size 640x480 with 1 Axes>"
            ],
            "image/png": "[encoded data removed]"
          },
          "metadata": {}
        }
      ]
    },
    {
      "cell_type": "code",
      "source": [],
      "metadata": {
        "id": "5Ep2IDm3bZzw"
      },
      "execution_count": null,
      "outputs": []
    }
  ]
}